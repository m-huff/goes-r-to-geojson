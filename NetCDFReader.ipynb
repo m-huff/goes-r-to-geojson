{
 "cells": [
  {
   "cell_type": "code",
   "execution_count": 10,
   "id": "a9a7df15",
   "metadata": {},
   "outputs": [
    {
     "name": "stdout",
     "output_type": "stream",
     "text": [
      "Global attributes:\n",
      "  cdm_data_type: Image\n",
      "  Conventions: CF-1.7\n",
      "  dataset_name: OR_GLMFD-020-B16-M0C00-T002_G18_s2025212235900_c2025213000036.nc\n",
      "  id: 93cb84a3-31ef-4823-89f5-c09d88fc89e8\n",
      "  institution: DOC/NOAA/NESDIS > U.S. Department of Commerce, National Oceanic and Atmospheric Administration, National Environmental Satellite, Data, and Information Services\n",
      "  instrument_ID: GLM-3\n",
      "  instrument_type: GOES R Series Geostationary Lightning Mapper\n",
      "  iso_series_metadata_id: f5816f53-fd6d-11e3-a3ac-0800200c9a66\n",
      "  keywords: ATMOSPHERE > ATMOSPHERIC ELECTRICITY > LIGHTNING, ATMOSPHERE > ATMOSPHERIC PHENOMENA > LIGHTNING\n",
      "  keywords_vocabulary: NASA Global Change Master Directory (GCMD) Earth Science Keywords, Version 7.0.0.0.0\n",
      "  license: Unclassified data.  Access is restricted to approved users only.\n",
      "  Metadata_Conventions: Unidata Dataset Discovery v1.0\n",
      "  naming_authority: gov.nesdis.noaa\n",
      "  orbital_slot: GOES-West\n",
      "  platform_ID: G18\n",
      "  processing_level: National Aeronautics and Space Administration (NASA) L2\n",
      "  production_data_source: Realtime\n",
      "  production_environment: OE\n",
      "  production_site: WCDAS\n",
      "  project: GOES\n",
      "  scene_id: Full Disk\n",
      "  spatial_resolution: 2km at nadir\n",
      "  standard_name_vocabulary: CF Standard Name Table (v25, 05 July 2013)\n",
      "  summary: The Lightning Detection Gridded product generates fields starting from the GLM Lightning Detection Events, Groups, Groups, Flashes product.  It consists of flash extent density, event density, average flash area, average group area, total energy, flash centroid density, and group centroid density.\n",
      "  time_coverage_end: 2025-08-01T00:00:00Z\n",
      "  time_coverage_start: 2025-07-31T23:59:00Z\n",
      "  timeline_id: ABI Mode 6\n",
      "  title: GLM L2 Lightning Detection Gridded Product\n",
      "  mission_name: GLM_plot\n",
      "  tile_row_offset: 0\n",
      "  tile_column_offset: 2712\n",
      "\n",
      "Variables:\n",
      "  x (dims=('x',), attrs=['long_name', 'standard_name', 'axis', 'units', 'add_offset', 'scale_factor'])\n",
      "  y (dims=('y',), attrs=['long_name', 'standard_name', 'axis', 'units', 'add_offset', 'scale_factor'])\n",
      "  Flash_extent_density (dims=('y', 'x'), attrs=['_FillValue', 'standard_name', 'long_name', 'grid_mapping', '_Unsigned', 'valid_min', 'valid_max'])\n",
      "  Total_Optical_energy (dims=('y', 'x'), attrs=['_FillValue', 'standard_name', 'long_name', 'grid_mapping', '_Unsigned', 'add_offset', 'scale_factor', 'units'])\n",
      "  Minimum_flash_area (dims=('y', 'x'), attrs=['_FillValue', 'standard_name', 'long_name', 'grid_mapping', '_Unsigned', 'add_offset', 'scale_factor', 'units'])\n",
      "  DQF (dims=('y', 'x'), attrs=['_FillValue', 'grid_mapping', 'number_of_qf_values', 'units', '_Unsigned', 'standard_name', 'long_name', 'flag_values', 'flag_meanings'])\n",
      "  goes_imager_projection (dims=(), attrs=['long_name', 'grid_mapping_name', 'latitude_of_projection_origin', 'longitude_of_projection_origin', 'semi_major_axis', 'semi_minor_axis', 'perspective_point_height', 'inverse_flattening', 'sweep_angle_axis'])\n"
     ]
    }
   ],
   "source": [
    "from netCDF4 import Dataset\n",
    "\n",
    "sample_file = \"E:/DownloadsBig/OR_GLM-L3-GLMF-M6_G18_s202521223590000_e202521300000000_c20252130000450.nc\"\n",
    "with Dataset(sample_file, \"r\") as ds:\n",
    "    print(\"Global attributes:\")\n",
    "    for attr in ds.ncattrs():\n",
    "        print(f\"  {attr}: {getattr(ds, attr)}\")\n",
    "\n",
    "    print(\"\\nVariables:\")\n",
    "    for var in ds.variables:\n",
    "        print(f\"  {var} (dims={ds[var].dimensions}, attrs={list(ds[var].ncattrs())})\")\n"
   ]
  }
 ],
 "metadata": {
  "kernelspec": {
   "display_name": "Python 3",
   "language": "python",
   "name": "python3"
  },
  "language_info": {
   "codemirror_mode": {
    "name": "ipython",
    "version": 3
   },
   "file_extension": ".py",
   "mimetype": "text/x-python",
   "name": "python",
   "nbconvert_exporter": "python",
   "pygments_lexer": "ipython3",
   "version": "3.11.9"
  }
 },
 "nbformat": 4,
 "nbformat_minor": 5
}
