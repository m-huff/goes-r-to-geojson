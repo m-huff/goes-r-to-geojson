{
 "cells": [
  {
   "cell_type": "markdown",
   "id": "db5bc0ff",
   "metadata": {},
   "source": [
    "# Script #2 - Processed GEOTIFF Pixel Noise Threshold Identifier\n",
    "\n",
    "*Mike Huff, 2025*\n",
    "\n",
    "https://github.com/m-huff\n",
    "\n",
    "This script takes the outputs from *Script #1* in the form of a GEOTIFF, and assesses the pixel value thresholds in the image. This can be helpful in determining whether you have images from the GOES satellites that contain \"dazzling\", where stray photons hit the sensor and result in pixel values that are massive outliers. In the raw GEOTIFF, this can look like a few solid white pixels or a solid white line of very large values within the raster. These are distracting and are not true values, so our aim should be to remove them from the raster.\n",
    "\n",
    "This script does not remove them from the raster, but rather outputs a chart that shows pixel values across your entire GEOTIFF and helps you make the executive decision about where to draw the line and determine what pixels are true outliers. Several print statements are includes to show you what the mean, standard deviation, mean + 2 standard deviations, 95th percentile, 99th percentile, and 99.5th percentile are for pixel values in your raster.\n",
    "\n",
    "Each of these values CAN be a good number to use to identify your outliers, but should be assessed manually. This is done in the next script. The biggest takeaway from running this script should be keeping the set of numbers generated and visually interpreting the chart to have a set of possible thresholds to use in the next script, *Script #3*."
   ]
  },
  {
   "cell_type": "code",
   "execution_count": null,
   "id": "4da16a60",
   "metadata": {},
   "outputs": [],
   "source": [
    "%pip install rasterio matplotlib numpy\n",
    "\n",
    "import rasterio\n",
    "import numpy as np\n",
    "import matplotlib.pyplot as plt\n",
    "\n",
    "### VARIABLES TO CONTROL THE SCRIPT\n",
    "### THESE ARE DESCRIBED IN THE MARKDOWN CELL ABOVE\n",
    "geotiff_path = r\"E:\\GOES-R Lightning Data\\EAST-RASTERS\\east_max_energy_2023.tif\"\n",
    "outlier_percentage = 99.5\n",
    "\n",
    "with rasterio.open(geotiff_path) as src:\n",
    "    data = src.read(1)\n",
    "    nodata = src.nodata\n",
    "\n",
    "if nodata is not None:\n",
    "    data = np.where(data == nodata, np.nan, data)\n",
    "\n",
    "vals = data.flatten()\n",
    "vals = vals[~np.isnan(vals)] \n",
    "mean_val = np.mean(vals)\n",
    "std_val = np.std(vals)\n",
    "threshold_std = mean_val + 2 * std_val\n",
    "\n",
    "p95 = np.percentile(vals, 95)\n",
    "p99 = np.percentile(vals, 99)\n",
    "p995 = np.percentile(vals, 99.5)\n",
    "\n",
    "print(f\"Mean: {mean_val:.2f}\")\n",
    "print(f\"Std Dev: {std_val:.2f}\")\n",
    "print(f\"Threshold (mean + 2*std): {threshold_std:.2f}\")\n",
    "print(f\"95th percentile: {p95:.2f}\")\n",
    "print(f\"99th percentile: {p99:.2f}\")\n",
    "print(f\"99.5th percentile: {p995:.2f}\")\n",
    "\n",
    "plt.figure(figsize=(10,6))\n",
    "plt.hist(vals, bins=200, range=(0, np.percentile(vals, outlier_percentage)), \n",
    "         color=\"skyblue\", edgecolor=\"k\", alpha=0.7)\n",
    "\n",
    "plt.axvline(threshold_std, color=\"red\", linestyle=\"--\", label=f\"Mean+2σ ({threshold_std:.2f})\")\n",
    "plt.axvline(p95, color=\"green\", linestyle=\"--\", label=f\"95th pct ({p95:.2f})\")\n",
    "plt.axvline(p99, color=\"orange\", linestyle=\"--\", label=f\"99th pct ({p99:.2f})\")\n",
    "plt.axvline(p995, color=\"purple\", linestyle=\"--\", label=f\"99.5th pct ({p995:.2f})\")\n",
    "plt.xlabel(\"Pixel Value\")\n",
    "plt.ylabel(\"Frequency\")\n",
    "plt.title(\"Histogram of Pixel Values (Clipped at 99.5th Percentile)\")\n",
    "plt.legend()\n",
    "plt.tight_layout()\n",
    "plt.show()\n"
   ]
  }
 ],
 "metadata": {
  "kernelspec": {
   "display_name": "Python 3",
   "language": "python",
   "name": "python3"
  },
  "language_info": {
   "codemirror_mode": {
    "name": "ipython",
    "version": 3
   },
   "file_extension": ".py",
   "mimetype": "text/x-python",
   "name": "python",
   "nbconvert_exporter": "python",
   "pygments_lexer": "ipython3",
   "version": "3.11.9"
  }
 },
 "nbformat": 4,
 "nbformat_minor": 5
}
