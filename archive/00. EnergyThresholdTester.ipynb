{
 "cells": [
  {
   "cell_type": "code",
   "execution_count": 1,
   "id": "15bd07ed",
   "metadata": {},
   "outputs": [
    {
     "name": "stdout",
     "output_type": "stream",
     "text": [
      "Number of valid pixels: 86862\n",
      "Top 10% count: 8686\n",
      "Top 10% min/max: 1.220776e-05, 0.00020905789\n"
     ]
    }
   ],
   "source": [
    "import numpy as np\n",
    "from netCDF4 import Dataset\n",
    "\n",
    "INPUT_FILE = r\"E:/GOES-R Lightning Data/2023/OR_GLM-L3-GLMF-M6_G16_s202318123590000_e202318200000000_c20231820000550.nc\"  # replace\n",
    "\n",
    "with Dataset(INPUT_FILE, \"r\") as ds:\n",
    "    data = ds.variables[\"Total_Optical_energy\"][:].astype(float)\n",
    "    fill_value = getattr(ds.variables[\"Total_Optical_energy\"], \"_FillValue\", np.nan)\n",
    "    data[data == fill_value] = np.nan\n",
    "\n",
    "    # Count valid pixels\n",
    "    valid = data[~np.isnan(data) & (data > 0)]\n",
    "    n_valid = valid.size\n",
    "    print(f\"Number of valid pixels: {n_valid}\")\n",
    "\n",
    "    # Example: top 10%\n",
    "    n_top10 = int(0.10 * n_valid)\n",
    "    print(f\"Top 10% count: {n_top10}\")\n",
    "\n",
    "    # If you wanted to actually get them:\n",
    "    sorted_vals = np.sort(valid)[::-1]  # descending\n",
    "    top10_vals = sorted_vals[:n_top10]\n",
    "    print(f\"Top 10% min/max: {top10_vals.min()}, {top10_vals.max()}\")\n"
   ]
  },
  {
   "cell_type": "code",
   "execution_count": 3,
   "id": "ff1266e3",
   "metadata": {},
   "outputs": [
    {
     "name": "stderr",
     "output_type": "stream",
     "text": [
      "C:\\Users\\micha\\AppData\\Local\\Packages\\PythonSoftwareFoundation.Python.3.11_qbz5n2kfra8p0\\LocalCache\\local-packages\\Python311\\site-packages\\numpy\\lib\\_function_base_impl.py:4859: UserWarning: Warning: 'partition' will ignore the 'mask' of the MaskedArray.\n",
      "  arr.partition(\n"
     ]
    },
    {
     "name": "stdout",
     "output_type": "stream",
     "text": [
      "90th percentile: 1.220776e-05\n",
      "95th percentile: 2.441552e-05\n",
      "97.5th percentile: 3.9675220000000004e-05\n",
      "99th percentile: 6.561671e-05\n"
     ]
    }
   ],
   "source": [
    "import random\n",
    "import numpy as np\n",
    "from netCDF4 import Dataset\n",
    "import os\n",
    "\n",
    "INPUT_DIR = r\"E:/GOES-R Lightning Data/2023\"\n",
    "N_SAMPLE = 1000   # adjust (500-2000 good)\n",
    "variable = \"Total_Optical_energy\"\n",
    "\n",
    "files = [os.path.join(INPUT_DIR,f) for f in os.listdir(INPUT_DIR) if f.endswith(\".nc\")]\n",
    "random.seed(42)\n",
    "sample_files = random.sample(files, min(N_SAMPLE, len(files)))\n",
    "\n",
    "vals = []\n",
    "for fn in sample_files:\n",
    "    try:\n",
    "        with Dataset(fn,'r') as ds:\n",
    "            if variable not in ds.variables:\n",
    "                continue\n",
    "            arr = ds.variables[variable][:].astype(float)\n",
    "            fv = getattr(ds.variables[variable], \"_FillValue\", None)\n",
    "            if fv is not None:\n",
    "                arr[arr == fv] = np.nan\n",
    "            # flatten only positive, non-nan values\n",
    "            a = arr[~np.isnan(arr) & (arr > 0)]\n",
    "            if a.size:\n",
    "                vals.append(a.ravel())\n",
    "    except Exception as e:\n",
    "        continue\n",
    "\n",
    "if not vals:\n",
    "    raise SystemExit(\"No positive values found in sample\")\n",
    "vals = np.concatenate(vals)\n",
    "for p in [90,95,97.5,99]:\n",
    "    print(f\"{p}th percentile: {np.percentile(vals, p)}\")\n"
   ]
  }
 ],
 "metadata": {
  "kernelspec": {
   "display_name": "Python 3",
   "language": "python",
   "name": "python3"
  },
  "language_info": {
   "codemirror_mode": {
    "name": "ipython",
    "version": 3
   },
   "file_extension": ".py",
   "mimetype": "text/x-python",
   "name": "python",
   "nbconvert_exporter": "python",
   "pygments_lexer": "ipython3",
   "version": "3.11.9"
  }
 },
 "nbformat": 4,
 "nbformat_minor": 5
}
