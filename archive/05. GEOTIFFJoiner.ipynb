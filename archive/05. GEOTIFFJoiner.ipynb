{
 "cells": [
  {
   "cell_type": "code",
   "execution_count": 4,
   "id": "77d936d8",
   "metadata": {},
   "outputs": [
    {
     "name": "stdout",
     "output_type": "stream",
     "text": [
      "DONE\n"
     ]
    }
   ],
   "source": [
    "import os\n",
    "import glob\n",
    "import numpy as np\n",
    "import rasterio\n",
    "\n",
    "# === CONFIG ===\n",
    "DATA_DIR = r\"E:\\GOES-R Lightning Data\\EAST-MEAN-FINAL\"  # folder with 3 GeoTIFFs\n",
    "OUTPUT_DIR = r\"E:\\GOES-R Lightning Data\\EAST-MEAN-FINAL\"\n",
    "\n",
    "os.makedirs(OUTPUT_DIR, exist_ok=True)\n",
    "\n",
    "# find all GeoTIFFs in input folder\n",
    "files = glob.glob(os.path.join(DATA_DIR, \"*.tif\"))\n",
    "if len(files) != 3:\n",
    "    raise ValueError(\"Expected exactly 3 GeoTIFFs in input folder\")\n",
    "\n",
    "# Read first raster to get metadata\n",
    "with rasterio.open(files[0]) as src:\n",
    "    meta = src.meta.copy()\n",
    "    shape = (src.height, src.width)\n",
    "    sum_raster = np.zeros(shape, dtype=np.float64)\n",
    "\n",
    "# loop over rasters to compute sum\n",
    "for f in files:\n",
    "    with rasterio.open(f) as src:\n",
    "        data = src.read(1).astype(np.float64)\n",
    "        sum_raster += data\n",
    "\n",
    "# compute average\n",
    "avg_raster = sum_raster / len(files)\n",
    "\n",
    "# update metadata for output\n",
    "meta.update(dtype=rasterio.float32, count=1)\n",
    "\n",
    "# save function\n",
    "def save_raster(arr, out_path):\n",
    "    with rasterio.open(out_path, \"w\", **meta) as dst:\n",
    "        dst.write(arr.astype(np.float32), 1)\n",
    "\n",
    "# output paths\n",
    "sum_path = os.path.join(OUTPUT_DIR, f\"sum_raster.tif\")\n",
    "avg_path = os.path.join(OUTPUT_DIR, f\"avg_raster.tif\")\n",
    "\n",
    "# save outputs\n",
    "save_raster(sum_raster, sum_path)\n",
    "save_raster(avg_raster, avg_path)\n",
    "\n",
    "print(\"DONE\")\n"
   ]
  }
 ],
 "metadata": {
  "kernelspec": {
   "display_name": "Python 3",
   "language": "python",
   "name": "python3"
  },
  "language_info": {
   "codemirror_mode": {
    "name": "ipython",
    "version": 3
   },
   "file_extension": ".py",
   "mimetype": "text/x-python",
   "name": "python",
   "nbconvert_exporter": "python",
   "pygments_lexer": "ipython3",
   "version": "3.11.9"
  }
 },
 "nbformat": 4,
 "nbformat_minor": 5
}
